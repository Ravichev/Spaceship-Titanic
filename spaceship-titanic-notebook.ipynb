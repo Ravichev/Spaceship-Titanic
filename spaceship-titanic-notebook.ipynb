{
 "cells": [
  {
   "cell_type": "code",
   "execution_count": 1,
   "id": "592ee2fb",
   "metadata": {
    "execution": {
     "iopub.execute_input": "2025-01-12T11:26:49.961403Z",
     "iopub.status.busy": "2025-01-12T11:26:49.960982Z",
     "iopub.status.idle": "2025-01-12T11:26:52.819280Z",
     "shell.execute_reply": "2025-01-12T11:26:52.818464Z"
    },
    "executionInfo": {
     "elapsed": 200,
     "status": "ok",
     "timestamp": 1736677750051,
     "user": {
      "displayName": "Максим Равичев",
      "userId": "13749303498246737990"
     },
     "user_tz": -120
    },
    "id": "NIwqcI1ThY1B",
    "papermill": {
     "duration": 2.872487,
     "end_time": "2025-01-12T11:26:52.821056",
     "exception": false,
     "start_time": "2025-01-12T11:26:49.948569",
     "status": "completed"
    },
    "tags": []
   },
   "outputs": [],
   "source": [
    "import warnings\n",
    "warnings.filterwarnings(\"ignore\")\n",
    "\n",
    "import pandas as pd\n",
    "import numpy as np\n",
    "import matplotlib.pyplot as plt\n",
    "import seaborn as sns\n",
    "\n",
    "from sklearn.preprocessing import StandardScaler\n",
    "from sklearn.model_selection import train_test_split, GridSearchCV, RandomizedSearchCV\n",
    "from sklearn.metrics import accuracy_score\n",
    "\n",
    "from sklearn.neural_network import MLPClassifier\n",
    "from xgboost import XGBClassifier\n",
    "from catboost import CatBoostClassifier\n",
    "from sklearn.ensemble import GradientBoostingClassifier\n",
    "from sklearn.tree import DecisionTreeClassifier\n",
    "from sklearn.ensemble import RandomForestClassifier\n",
    "\n",
    "from sklearn.ensemble import VotingClassifier\n",
    "path_to_train = \"/kaggle/input/spaceship-titanic/train.csv\"\n",
    "path_to_validat = \"/kaggle/input/spaceship-titanic/test.csv\""
   ]
  },
  {
   "cell_type": "code",
   "execution_count": 2,
   "id": "9beaa22d",
   "metadata": {
    "execution": {
     "iopub.execute_input": "2025-01-12T11:26:52.844490Z",
     "iopub.status.busy": "2025-01-12T11:26:52.843938Z",
     "iopub.status.idle": "2025-01-12T11:26:52.921475Z",
     "shell.execute_reply": "2025-01-12T11:26:52.920530Z"
    },
    "executionInfo": {
     "elapsed": 219,
     "status": "ok",
     "timestamp": 1736677571390,
     "user": {
      "displayName": "Максим Равичев",
      "userId": "13749303498246737990"
     },
     "user_tz": -120
    },
    "id": "NANbvy1bP2Q9",
    "papermill": {
     "duration": 0.091056,
     "end_time": "2025-01-12T11:26:52.923587",
     "exception": false,
     "start_time": "2025-01-12T11:26:52.832531",
     "status": "completed"
    },
    "tags": []
   },
   "outputs": [],
   "source": [
    "df = pd.read_csv(path_to_train)\n",
    "valid_df = pd.read_csv(path_to_validat)\n",
    "\n",
    "np.random.seed(42)\n",
    "random_state = 42"
   ]
  },
  {
   "cell_type": "code",
   "execution_count": 3,
   "id": "ca0659f0",
   "metadata": {
    "execution": {
     "iopub.execute_input": "2025-01-12T11:26:52.946083Z",
     "iopub.status.busy": "2025-01-12T11:26:52.945705Z",
     "iopub.status.idle": "2025-01-12T11:26:52.975600Z",
     "shell.execute_reply": "2025-01-12T11:26:52.974085Z"
    },
    "executionInfo": {
     "elapsed": 332,
     "status": "ok",
     "timestamp": 1736674849121,
     "user": {
      "displayName": "Максим Равичев",
      "userId": "13749303498246737990"
     },
     "user_tz": -120
    },
    "id": "3EemMbf-Qi9L",
    "outputId": "766daf51-fca0-43d2-ff36-b2d6c362a243",
    "papermill": {
     "duration": 0.042982,
     "end_time": "2025-01-12T11:26:52.977375",
     "exception": false,
     "start_time": "2025-01-12T11:26:52.934393",
     "status": "completed"
    },
    "tags": []
   },
   "outputs": [
    {
     "name": "stdout",
     "output_type": "stream",
     "text": [
      "<class 'pandas.core.frame.DataFrame'>\n",
      "RangeIndex: 8693 entries, 0 to 8692\n",
      "Data columns (total 14 columns):\n",
      " #   Column        Non-Null Count  Dtype  \n",
      "---  ------        --------------  -----  \n",
      " 0   PassengerId   8693 non-null   object \n",
      " 1   HomePlanet    8492 non-null   object \n",
      " 2   CryoSleep     8476 non-null   object \n",
      " 3   Cabin         8494 non-null   object \n",
      " 4   Destination   8511 non-null   object \n",
      " 5   Age           8514 non-null   float64\n",
      " 6   VIP           8490 non-null   object \n",
      " 7   RoomService   8512 non-null   float64\n",
      " 8   FoodCourt     8510 non-null   float64\n",
      " 9   ShoppingMall  8485 non-null   float64\n",
      " 10  Spa           8510 non-null   float64\n",
      " 11  VRDeck        8505 non-null   float64\n",
      " 12  Name          8493 non-null   object \n",
      " 13  Transported   8693 non-null   bool   \n",
      "dtypes: bool(1), float64(6), object(7)\n",
      "memory usage: 891.5+ KB\n"
     ]
    }
   ],
   "source": [
    "df.info()"
   ]
  },
  {
   "cell_type": "code",
   "execution_count": 4,
   "id": "e841ac14",
   "metadata": {
    "execution": {
     "iopub.execute_input": "2025-01-12T11:26:52.999819Z",
     "iopub.status.busy": "2025-01-12T11:26:52.999429Z",
     "iopub.status.idle": "2025-01-12T11:26:53.022100Z",
     "shell.execute_reply": "2025-01-12T11:26:53.021077Z"
    },
    "executionInfo": {
     "elapsed": 227,
     "status": "ok",
     "timestamp": 1736677573276,
     "user": {
      "displayName": "Максим Равичев",
      "userId": "13749303498246737990"
     },
     "user_tz": -120
    },
    "id": "edKUE5JiQ6pz",
    "outputId": "fe0e5db4-8ca0-4bce-a4d6-c14cde209ba7",
    "papermill": {
     "duration": 0.035648,
     "end_time": "2025-01-12T11:26:53.023739",
     "exception": false,
     "start_time": "2025-01-12T11:26:52.988091",
     "status": "completed"
    },
    "tags": []
   },
   "outputs": [
    {
     "data": {
      "text/html": [
       "<div>\n",
       "<style scoped>\n",
       "    .dataframe tbody tr th:only-of-type {\n",
       "        vertical-align: middle;\n",
       "    }\n",
       "\n",
       "    .dataframe tbody tr th {\n",
       "        vertical-align: top;\n",
       "    }\n",
       "\n",
       "    .dataframe thead th {\n",
       "        text-align: right;\n",
       "    }\n",
       "</style>\n",
       "<table border=\"1\" class=\"dataframe\">\n",
       "  <thead>\n",
       "    <tr style=\"text-align: right;\">\n",
       "      <th></th>\n",
       "      <th>PassengerId</th>\n",
       "      <th>HomePlanet</th>\n",
       "      <th>CryoSleep</th>\n",
       "      <th>Cabin</th>\n",
       "      <th>Destination</th>\n",
       "      <th>Age</th>\n",
       "      <th>VIP</th>\n",
       "      <th>RoomService</th>\n",
       "      <th>FoodCourt</th>\n",
       "      <th>ShoppingMall</th>\n",
       "      <th>Spa</th>\n",
       "      <th>VRDeck</th>\n",
       "      <th>Name</th>\n",
       "      <th>Transported</th>\n",
       "    </tr>\n",
       "  </thead>\n",
       "  <tbody>\n",
       "    <tr>\n",
       "      <th>0</th>\n",
       "      <td>0001_01</td>\n",
       "      <td>Europa</td>\n",
       "      <td>False</td>\n",
       "      <td>B/0/P</td>\n",
       "      <td>TRAPPIST-1e</td>\n",
       "      <td>39.0</td>\n",
       "      <td>False</td>\n",
       "      <td>0.0</td>\n",
       "      <td>0.0</td>\n",
       "      <td>0.0</td>\n",
       "      <td>0.0</td>\n",
       "      <td>0.0</td>\n",
       "      <td>Maham Ofracculy</td>\n",
       "      <td>False</td>\n",
       "    </tr>\n",
       "    <tr>\n",
       "      <th>1</th>\n",
       "      <td>0002_01</td>\n",
       "      <td>Earth</td>\n",
       "      <td>False</td>\n",
       "      <td>F/0/S</td>\n",
       "      <td>TRAPPIST-1e</td>\n",
       "      <td>24.0</td>\n",
       "      <td>False</td>\n",
       "      <td>109.0</td>\n",
       "      <td>9.0</td>\n",
       "      <td>25.0</td>\n",
       "      <td>549.0</td>\n",
       "      <td>44.0</td>\n",
       "      <td>Juanna Vines</td>\n",
       "      <td>True</td>\n",
       "    </tr>\n",
       "    <tr>\n",
       "      <th>2</th>\n",
       "      <td>0003_01</td>\n",
       "      <td>Europa</td>\n",
       "      <td>False</td>\n",
       "      <td>A/0/S</td>\n",
       "      <td>TRAPPIST-1e</td>\n",
       "      <td>58.0</td>\n",
       "      <td>True</td>\n",
       "      <td>43.0</td>\n",
       "      <td>3576.0</td>\n",
       "      <td>0.0</td>\n",
       "      <td>6715.0</td>\n",
       "      <td>49.0</td>\n",
       "      <td>Altark Susent</td>\n",
       "      <td>False</td>\n",
       "    </tr>\n",
       "    <tr>\n",
       "      <th>3</th>\n",
       "      <td>0003_02</td>\n",
       "      <td>Europa</td>\n",
       "      <td>False</td>\n",
       "      <td>A/0/S</td>\n",
       "      <td>TRAPPIST-1e</td>\n",
       "      <td>33.0</td>\n",
       "      <td>False</td>\n",
       "      <td>0.0</td>\n",
       "      <td>1283.0</td>\n",
       "      <td>371.0</td>\n",
       "      <td>3329.0</td>\n",
       "      <td>193.0</td>\n",
       "      <td>Solam Susent</td>\n",
       "      <td>False</td>\n",
       "    </tr>\n",
       "    <tr>\n",
       "      <th>4</th>\n",
       "      <td>0004_01</td>\n",
       "      <td>Earth</td>\n",
       "      <td>False</td>\n",
       "      <td>F/1/S</td>\n",
       "      <td>TRAPPIST-1e</td>\n",
       "      <td>16.0</td>\n",
       "      <td>False</td>\n",
       "      <td>303.0</td>\n",
       "      <td>70.0</td>\n",
       "      <td>151.0</td>\n",
       "      <td>565.0</td>\n",
       "      <td>2.0</td>\n",
       "      <td>Willy Santantines</td>\n",
       "      <td>True</td>\n",
       "    </tr>\n",
       "  </tbody>\n",
       "</table>\n",
       "</div>"
      ],
      "text/plain": [
       "  PassengerId HomePlanet CryoSleep  Cabin  Destination   Age    VIP  \\\n",
       "0     0001_01     Europa     False  B/0/P  TRAPPIST-1e  39.0  False   \n",
       "1     0002_01      Earth     False  F/0/S  TRAPPIST-1e  24.0  False   \n",
       "2     0003_01     Europa     False  A/0/S  TRAPPIST-1e  58.0   True   \n",
       "3     0003_02     Europa     False  A/0/S  TRAPPIST-1e  33.0  False   \n",
       "4     0004_01      Earth     False  F/1/S  TRAPPIST-1e  16.0  False   \n",
       "\n",
       "   RoomService  FoodCourt  ShoppingMall     Spa  VRDeck               Name  \\\n",
       "0          0.0        0.0           0.0     0.0     0.0    Maham Ofracculy   \n",
       "1        109.0        9.0          25.0   549.0    44.0       Juanna Vines   \n",
       "2         43.0     3576.0           0.0  6715.0    49.0      Altark Susent   \n",
       "3          0.0     1283.0         371.0  3329.0   193.0       Solam Susent   \n",
       "4        303.0       70.0         151.0   565.0     2.0  Willy Santantines   \n",
       "\n",
       "   Transported  \n",
       "0        False  \n",
       "1         True  \n",
       "2        False  \n",
       "3        False  \n",
       "4         True  "
      ]
     },
     "execution_count": 4,
     "metadata": {},
     "output_type": "execute_result"
    }
   ],
   "source": [
    "df.head()"
   ]
  },
  {
   "cell_type": "markdown",
   "id": "f863460d",
   "metadata": {
    "id": "zQ-FgptjznnP",
    "papermill": {
     "duration": 0.010604,
     "end_time": "2025-01-12T11:26:53.045989",
     "exception": false,
     "start_time": "2025-01-12T11:26:53.035385",
     "status": "completed"
    },
    "tags": []
   },
   "source": [
    "# Preprocessing"
   ]
  },
  {
   "cell_type": "markdown",
   "id": "5e38e3f9",
   "metadata": {
    "id": "Yinfq7sLzuy0",
    "papermill": {
     "duration": 0.010487,
     "end_time": "2025-01-12T11:26:53.067209",
     "exception": false,
     "start_time": "2025-01-12T11:26:53.056722",
     "status": "completed"
    },
    "tags": []
   },
   "source": [
    "To improve readability, a single master method will be divided into one method that calls seven others. Processing with methods helps avoid duplicating the entire code for both the train and validation DataFrames."
   ]
  },
  {
   "cell_type": "markdown",
   "id": "4869f971",
   "metadata": {
    "id": "PxwMs8h-0VdI",
    "papermill": {
     "duration": 0.010468,
     "end_time": "2025-01-12T11:26:53.088415",
     "exception": false,
     "start_time": "2025-01-12T11:26:53.077947",
     "status": "completed"
    },
    "tags": []
   },
   "source": [
    "## Group transformation"
   ]
  },
  {
   "cell_type": "markdown",
   "id": "e7817f28",
   "metadata": {
    "id": "rcxWAGr9Jbrv",
    "papermill": {
     "duration": 0.010599,
     "end_time": "2025-01-12T11:26:53.109760",
     "exception": false,
     "start_time": "2025-01-12T11:26:53.099161",
     "status": "completed"
    },
    "tags": []
   },
   "source": [
    "We spliting `PassengerId` to get Group of each passanger"
   ]
  },
  {
   "cell_type": "code",
   "execution_count": 5,
   "id": "613ddd6d",
   "metadata": {
    "execution": {
     "iopub.execute_input": "2025-01-12T11:26:53.133084Z",
     "iopub.status.busy": "2025-01-12T11:26:53.132718Z",
     "iopub.status.idle": "2025-01-12T11:26:53.137419Z",
     "shell.execute_reply": "2025-01-12T11:26:53.136500Z"
    },
    "executionInfo": {
     "elapsed": 340,
     "status": "ok",
     "timestamp": 1736674859500,
     "user": {
      "displayName": "Максим Равичев",
      "userId": "13749303498246737990"
     },
     "user_tz": -120
    },
    "id": "D6K6SmKN0jB_",
    "papermill": {
     "duration": 0.018345,
     "end_time": "2025-01-12T11:26:53.139007",
     "exception": false,
     "start_time": "2025-01-12T11:26:53.120662",
     "status": "completed"
    },
    "tags": []
   },
   "outputs": [],
   "source": [
    "def group_transform(X):\n",
    "  X['Group'] = X['PassengerId'].apply(lambda x: x.split('_')[0]).astype(int)\n",
    "  X=X.set_index('PassengerId')\n",
    "  X['Group'] = X['Group'].astype(int)\n",
    "  return X"
   ]
  },
  {
   "cell_type": "markdown",
   "id": "d9c69f30",
   "metadata": {
    "id": "TqvX6VHT3fAB",
    "papermill": {
     "duration": 0.010334,
     "end_time": "2025-01-12T11:26:53.160237",
     "exception": false,
     "start_time": "2025-01-12T11:26:53.149903",
     "status": "completed"
    },
    "tags": []
   },
   "source": [
    "##Home and Destinaton transformation"
   ]
  },
  {
   "cell_type": "markdown",
   "id": "8557dfa9",
   "metadata": {
    "id": "rQ7NKMhzIbdZ",
    "papermill": {
     "duration": 0.010536,
     "end_time": "2025-01-12T11:26:53.181472",
     "exception": false,
     "start_time": "2025-01-12T11:26:53.170936",
     "status": "completed"
    },
    "tags": []
   },
   "source": [
    "First fill `HomePlanet` and `Destination` with the first not NaN value of each `Group`. Second fill we remove NaN in exception ones with mode"
   ]
  },
  {
   "cell_type": "code",
   "execution_count": 6,
   "id": "96d95ef1",
   "metadata": {
    "execution": {
     "iopub.execute_input": "2025-01-12T11:26:53.204256Z",
     "iopub.status.busy": "2025-01-12T11:26:53.203864Z",
     "iopub.status.idle": "2025-01-12T11:26:53.209867Z",
     "shell.execute_reply": "2025-01-12T11:26:53.208634Z"
    },
    "executionInfo": {
     "elapsed": 5,
     "status": "ok",
     "timestamp": 1736674859856,
     "user": {
      "displayName": "Максим Равичев",
      "userId": "13749303498246737990"
     },
     "user_tz": -120
    },
    "id": "0szU2W1Q08Bd",
    "papermill": {
     "duration": 0.019314,
     "end_time": "2025-01-12T11:26:53.211466",
     "exception": false,
     "start_time": "2025-01-12T11:26:53.192152",
     "status": "completed"
    },
    "tags": []
   },
   "outputs": [],
   "source": [
    "def home_n_destin_transform(X):\n",
    "  X['HomePlanet'] = X['HomePlanet'].fillna(X.groupby('Group')['HomePlanet'].transform('first'))\n",
    "  X['Destination'] = X['Destination'].fillna(X.groupby('Group')['Destination'].transform('first'))\n",
    "  X['HomePlanet'] = X['HomePlanet'].fillna(X['HomePlanet'].mode()[0])\n",
    "  X['Destination'] = X['Destination'].fillna(X['Destination'].mode()[0])\n",
    "  # One-hot encode the `HomePlanet` column\n",
    "  X = pd.get_dummies(X, columns=['HomePlanet'], drop_first=False)\n",
    "  X = pd.get_dummies(X, columns=['Destination'], drop_first=False)\n",
    "  return X"
   ]
  },
  {
   "cell_type": "markdown",
   "id": "14c33007",
   "metadata": {
    "id": "Ijxs-pfP3omD",
    "papermill": {
     "duration": 0.010348,
     "end_time": "2025-01-12T11:26:53.233004",
     "exception": false,
     "start_time": "2025-01-12T11:26:53.222656",
     "status": "completed"
    },
    "tags": []
   },
   "source": [
    "## Deck and Side transformaion"
   ]
  },
  {
   "cell_type": "markdown",
   "id": "85e605ca",
   "metadata": {
    "id": "HUNNij49GZGC",
    "papermill": {
     "duration": 0.010699,
     "end_time": "2025-01-12T11:26:53.255409",
     "exception": false,
     "start_time": "2025-01-12T11:26:53.244710",
     "status": "completed"
    },
    "tags": []
   },
   "source": [
    "We split `Cabin` in 3 new columns. `Num` is not informative one.\n",
    "\n",
    "Filling `Deck` and `Side` with random.choise based on percentage frequency.\n",
    "Reordering `Deck` categories that can help some machine learning models understand the data better"
   ]
  },
  {
   "cell_type": "code",
   "execution_count": 7,
   "id": "8cf346e8",
   "metadata": {
    "execution": {
     "iopub.execute_input": "2025-01-12T11:26:53.278372Z",
     "iopub.status.busy": "2025-01-12T11:26:53.277984Z",
     "iopub.status.idle": "2025-01-12T11:26:53.284452Z",
     "shell.execute_reply": "2025-01-12T11:26:53.283292Z"
    },
    "executionInfo": {
     "elapsed": 4,
     "status": "ok",
     "timestamp": 1736674859856,
     "user": {
      "displayName": "Максим Равичев",
      "userId": "13749303498246737990"
     },
     "user_tz": -120
    },
    "id": "gDGWXIdY08IM",
    "papermill": {
     "duration": 0.019784,
     "end_time": "2025-01-12T11:26:53.286039",
     "exception": false,
     "start_time": "2025-01-12T11:26:53.266255",
     "status": "completed"
    },
    "tags": []
   },
   "outputs": [],
   "source": [
    "def deck_n_side_transform(X):\n",
    "  X[['Deck', 'Num', 'Side']] = X['Cabin'].str.split('/', expand=True)\n",
    "  X = X.drop('Num', axis=1)\n",
    "  for column in ['Deck', 'Side']:\n",
    "    train_value_counts = X[column].value_counts(normalize=True)\n",
    "    X[column] = X[column].fillna(np.random.choice(train_value_counts.index, p=train_value_counts.values))\n",
    "\n",
    "  X['Deck'] = X['Deck'].astype('category')\n",
    "  X['Deck'] = X['Deck'].cat.reorder_categories(X['Deck'].value_counts().index.to_list(), ordered=True)\n",
    "  X['Deck'] = X['Deck'].cat.codes\n",
    "  # One-hot encode\n",
    "  X = pd.get_dummies(X, columns=['Side'], drop_first=False)\n",
    "  return X"
   ]
  },
  {
   "cell_type": "markdown",
   "id": "63c59923",
   "metadata": {
    "id": "nQbpFItu45v0",
    "papermill": {
     "duration": 0.010951,
     "end_time": "2025-01-12T11:26:53.309806",
     "exception": false,
     "start_time": "2025-01-12T11:26:53.298855",
     "status": "completed"
    },
    "tags": []
   },
   "source": [
    "## CryoSleep transformaion"
   ]
  },
  {
   "cell_type": "markdown",
   "id": "5ddfb64b",
   "metadata": {
    "id": "L58L7qSnGXHn",
    "papermill": {
     "duration": 0.010371,
     "end_time": "2025-01-12T11:26:53.331200",
     "exception": false,
     "start_time": "2025-01-12T11:26:53.320829",
     "status": "completed"
    },
    "tags": []
   },
   "source": [
    "Saving the proportions of `CryoSleep` in each one `Deck`, we fill NaN in `CryoSleep`"
   ]
  },
  {
   "cell_type": "code",
   "execution_count": 8,
   "id": "a10061d8",
   "metadata": {
    "execution": {
     "iopub.execute_input": "2025-01-12T11:26:53.355224Z",
     "iopub.status.busy": "2025-01-12T11:26:53.354837Z",
     "iopub.status.idle": "2025-01-12T11:26:53.360613Z",
     "shell.execute_reply": "2025-01-12T11:26:53.359531Z"
    },
    "executionInfo": {
     "elapsed": 4,
     "status": "ok",
     "timestamp": 1736674859856,
     "user": {
      "displayName": "Максим Равичев",
      "userId": "13749303498246737990"
     },
     "user_tz": -120
    },
    "id": "QwfOsgN908Ps",
    "papermill": {
     "duration": 0.019435,
     "end_time": "2025-01-12T11:26:53.362275",
     "exception": false,
     "start_time": "2025-01-12T11:26:53.342840",
     "status": "completed"
    },
    "tags": []
   },
   "outputs": [],
   "source": [
    "def cryosleep_transform(X):\n",
    "  for deck in X['Deck'].unique():\n",
    "      subset = X[X['Deck'] == deck]\n",
    "      if subset['CryoSleep'].isnull().sum() > 0:\n",
    "          value_counts = subset['CryoSleep'].value_counts(normalize=True)\n",
    "          X.loc[X['Deck'] == deck, 'CryoSleep'] = X.loc[X['Deck'] == deck, 'CryoSleep'].fillna(np.random.choice(value_counts.index, p=value_counts.values))\n",
    "  # One-hot encode\n",
    "  X = pd.get_dummies(X, columns=['CryoSleep'], drop_first=False)\n",
    "\n",
    "  return X"
   ]
  },
  {
   "cell_type": "markdown",
   "id": "b5cdc571",
   "metadata": {
    "id": "YDqkbqTn48KF",
    "papermill": {
     "duration": 0.010703,
     "end_time": "2025-01-12T11:26:53.383943",
     "exception": false,
     "start_time": "2025-01-12T11:26:53.373240",
     "status": "completed"
    },
    "tags": []
   },
   "source": [
    "## VIP transformaion"
   ]
  },
  {
   "cell_type": "markdown",
   "id": "96560c02",
   "metadata": {
    "id": "95tOqghPFJxB",
    "papermill": {
     "duration": 0.010417,
     "end_time": "2025-01-12T11:26:53.405243",
     "exception": false,
     "start_time": "2025-01-12T11:26:53.394826",
     "status": "completed"
    },
    "tags": []
   },
   "source": [
    "Saving the proportions of `VIP` in each one `Deck`, we fill NaN in `VIP`"
   ]
  },
  {
   "cell_type": "code",
   "execution_count": 9,
   "id": "29555dc3",
   "metadata": {
    "execution": {
     "iopub.execute_input": "2025-01-12T11:26:53.427935Z",
     "iopub.status.busy": "2025-01-12T11:26:53.427573Z",
     "iopub.status.idle": "2025-01-12T11:26:53.433331Z",
     "shell.execute_reply": "2025-01-12T11:26:53.432267Z"
    },
    "executionInfo": {
     "elapsed": 4,
     "status": "ok",
     "timestamp": 1736674859856,
     "user": {
      "displayName": "Максим Равичев",
      "userId": "13749303498246737990"
     },
     "user_tz": -120
    },
    "id": "hiRKzWrE08V6",
    "papermill": {
     "duration": 0.019158,
     "end_time": "2025-01-12T11:26:53.435104",
     "exception": false,
     "start_time": "2025-01-12T11:26:53.415946",
     "status": "completed"
    },
    "tags": []
   },
   "outputs": [],
   "source": [
    "def vip_transform(X):\n",
    "  for deck in X['Deck'].unique():\n",
    "      subset = X[X['Deck'] == deck]\n",
    "      if subset['VIP'].isnull().sum() > 0:\n",
    "          value_counts = subset['VIP'].value_counts(normalize=True)\n",
    "          X.loc[X['Deck'] == deck, 'VIP'] = X.loc[X['Deck'] == deck, 'VIP'].fillna(np.random.choice(value_counts.index, p=value_counts.values))\n",
    "\n",
    "  # One-hot encode the VIP column\n",
    "  X = pd.get_dummies(X, columns=['VIP'], drop_first=False)\n",
    "  return X"
   ]
  },
  {
   "cell_type": "markdown",
   "id": "744d2df2",
   "metadata": {
    "id": "_pM6VtMm49sg",
    "papermill": {
     "duration": 0.010625,
     "end_time": "2025-01-12T11:26:53.456830",
     "exception": false,
     "start_time": "2025-01-12T11:26:53.446205",
     "status": "completed"
    },
    "tags": []
   },
   "source": [
    "## Age transformaion"
   ]
  },
  {
   "cell_type": "markdown",
   "id": "56c73b25",
   "metadata": {
    "id": "hp1CrVv2FFGV",
    "papermill": {
     "duration": 0.010753,
     "end_time": "2025-01-12T11:26:53.478629",
     "exception": false,
     "start_time": "2025-01-12T11:26:53.467876",
     "status": "completed"
    },
    "tags": []
   },
   "source": [
    "Just fill `Age` with median"
   ]
  },
  {
   "cell_type": "code",
   "execution_count": 10,
   "id": "e952dab5",
   "metadata": {
    "execution": {
     "iopub.execute_input": "2025-01-12T11:26:53.501973Z",
     "iopub.status.busy": "2025-01-12T11:26:53.501621Z",
     "iopub.status.idle": "2025-01-12T11:26:53.505920Z",
     "shell.execute_reply": "2025-01-12T11:26:53.505005Z"
    },
    "executionInfo": {
     "elapsed": 4,
     "status": "ok",
     "timestamp": 1736674859856,
     "user": {
      "displayName": "Максим Равичев",
      "userId": "13749303498246737990"
     },
     "user_tz": -120
    },
    "id": "0NslqDav08cL",
    "papermill": {
     "duration": 0.017862,
     "end_time": "2025-01-12T11:26:53.507429",
     "exception": false,
     "start_time": "2025-01-12T11:26:53.489567",
     "status": "completed"
    },
    "tags": []
   },
   "outputs": [],
   "source": [
    "def age_transform(X):\n",
    "  X['Age'] = X['Age'].fillna(X['Age'].median())\n",
    "  return X"
   ]
  },
  {
   "cell_type": "markdown",
   "id": "dae91a0a",
   "metadata": {
    "id": "xbaCxVPm4_jU",
    "papermill": {
     "duration": 0.010811,
     "end_time": "2025-01-12T11:26:53.529537",
     "exception": false,
     "start_time": "2025-01-12T11:26:53.518726",
     "status": "completed"
    },
    "tags": []
   },
   "source": [
    "## TotalMoney transformaion"
   ]
  },
  {
   "cell_type": "markdown",
   "id": "14e4b23a",
   "metadata": {
    "id": "Upu25_LHEa_R",
    "papermill": {
     "duration": 0.010676,
     "end_time": "2025-01-12T11:26:53.551229",
     "exception": false,
     "start_time": "2025-01-12T11:26:53.540553",
     "status": "completed"
    },
    "tags": []
   },
   "source": [
    "Fill `RoomService`, `FoodCourt`, `ShoppingMall`, `Spa`, `VRDeck` with median. If passanger is in `CryoSleep` he cant spend money. Sum all spended money in new column `TotalMoney`"
   ]
  },
  {
   "cell_type": "code",
   "execution_count": 11,
   "id": "41190347",
   "metadata": {
    "execution": {
     "iopub.execute_input": "2025-01-12T11:26:53.574319Z",
     "iopub.status.busy": "2025-01-12T11:26:53.573969Z",
     "iopub.status.idle": "2025-01-12T11:26:53.579343Z",
     "shell.execute_reply": "2025-01-12T11:26:53.578189Z"
    },
    "executionInfo": {
     "elapsed": 4,
     "status": "ok",
     "timestamp": 1736674859856,
     "user": {
      "displayName": "Максим Равичев",
      "userId": "13749303498246737990"
     },
     "user_tz": -120
    },
    "id": "ne22RaEZ3EGg",
    "papermill": {
     "duration": 0.018908,
     "end_time": "2025-01-12T11:26:53.581054",
     "exception": false,
     "start_time": "2025-01-12T11:26:53.562146",
     "status": "completed"
    },
    "tags": []
   },
   "outputs": [],
   "source": [
    "def totalmoney_transform(X):\n",
    "  for col in ['RoomService', 'FoodCourt', 'ShoppingMall', 'Spa', 'VRDeck']:\n",
    "    X[col] = X[col].fillna(X[col].median())\n",
    "    X.loc[X['CryoSleep_True'] == 1, col] = 0\n",
    "\n",
    "  X['TotalMoney'] = X['RoomService'] + X['FoodCourt'] + X['ShoppingMall'] + X['Spa'] + X['VRDeck']\n",
    "  return X"
   ]
  },
  {
   "cell_type": "markdown",
   "id": "0a2bfe3b",
   "metadata": {
    "id": "c8yU0jQ05F6e",
    "papermill": {
     "duration": 0.010706,
     "end_time": "2025-01-12T11:26:53.603038",
     "exception": false,
     "start_time": "2025-01-12T11:26:53.592332",
     "status": "completed"
    },
    "tags": []
   },
   "source": [
    "## Master method"
   ]
  },
  {
   "cell_type": "markdown",
   "id": "0508a1de",
   "metadata": {
    "id": "YV7WFAepJsfh",
    "papermill": {
     "duration": 0.010769,
     "end_time": "2025-01-12T11:26:53.624763",
     "exception": false,
     "start_time": "2025-01-12T11:26:53.613994",
     "status": "completed"
    },
    "tags": []
   },
   "source": [
    "Method that use all previous, and some final preparation of data"
   ]
  },
  {
   "cell_type": "code",
   "execution_count": 12,
   "id": "0c73ae75",
   "metadata": {
    "execution": {
     "iopub.execute_input": "2025-01-12T11:26:53.648086Z",
     "iopub.status.busy": "2025-01-12T11:26:53.647747Z",
     "iopub.status.idle": "2025-01-12T11:26:53.653065Z",
     "shell.execute_reply": "2025-01-12T11:26:53.652165Z"
    },
    "executionInfo": {
     "elapsed": 204,
     "status": "ok",
     "timestamp": 1736677577695,
     "user": {
      "displayName": "Максим Равичев",
      "userId": "13749303498246737990"
     },
     "user_tz": -120
    },
    "id": "qSaubPEh8Jyk",
    "papermill": {
     "duration": 0.018805,
     "end_time": "2025-01-12T11:26:53.654583",
     "exception": false,
     "start_time": "2025-01-12T11:26:53.635778",
     "status": "completed"
    },
    "tags": []
   },
   "outputs": [],
   "source": [
    "def new_columns_n_fill(X):\n",
    "  X=group_transform(X)\n",
    "  X=home_n_destin_transform(X)\n",
    "  X=deck_n_side_transform(X)\n",
    "  X=cryosleep_transform(X)\n",
    "  X=vip_transform(X)\n",
    "  X=age_transform(X)\n",
    "  X=totalmoney_transform(X)\n",
    "  # drop not needed columns\n",
    "  X = X.drop(['Cabin', 'Name'], axis=1)\n",
    "  # change type of columns that in bool to int\n",
    "  for col in X.columns:\n",
    "    if X[col].dtype == 'bool':\n",
    "        X[col] = X[col].astype(int)\n",
    "\n",
    "  return X"
   ]
  },
  {
   "cell_type": "markdown",
   "id": "dc6f961f",
   "metadata": {
    "id": "NbpjdXwJKKIr",
    "papermill": {
     "duration": 0.010853,
     "end_time": "2025-01-12T11:26:53.676691",
     "exception": false,
     "start_time": "2025-01-12T11:26:53.665838",
     "status": "completed"
    },
    "tags": []
   },
   "source": [
    "Call of the master method for each df"
   ]
  },
  {
   "cell_type": "code",
   "execution_count": 13,
   "id": "4a0de1f1",
   "metadata": {
    "execution": {
     "iopub.execute_input": "2025-01-12T11:26:53.699955Z",
     "iopub.status.busy": "2025-01-12T11:26:53.699590Z",
     "iopub.status.idle": "2025-01-12T11:26:53.922573Z",
     "shell.execute_reply": "2025-01-12T11:26:53.921684Z"
    },
    "executionInfo": {
     "elapsed": 699,
     "status": "ok",
     "timestamp": 1736677579682,
     "user": {
      "displayName": "Максим Равичев",
      "userId": "13749303498246737990"
     },
     "user_tz": -120
    },
    "id": "-4p1G5DhrAju",
    "papermill": {
     "duration": 0.236785,
     "end_time": "2025-01-12T11:26:53.924403",
     "exception": false,
     "start_time": "2025-01-12T11:26:53.687618",
     "status": "completed"
    },
    "tags": []
   },
   "outputs": [],
   "source": [
    "df = new_columns_n_fill(df)\n",
    "valid_df = new_columns_n_fill(valid_df)"
   ]
  },
  {
   "cell_type": "code",
   "execution_count": 14,
   "id": "47fff1ea",
   "metadata": {
    "execution": {
     "iopub.execute_input": "2025-01-12T11:26:53.947889Z",
     "iopub.status.busy": "2025-01-12T11:26:53.947539Z",
     "iopub.status.idle": "2025-01-12T11:26:53.953312Z",
     "shell.execute_reply": "2025-01-12T11:26:53.952304Z"
    },
    "executionInfo": {
     "elapsed": 221,
     "status": "ok",
     "timestamp": 1736677581584,
     "user": {
      "displayName": "Максим Равичев",
      "userId": "13749303498246737990"
     },
     "user_tz": -120
    },
    "id": "0WJ_zJS-EfVX",
    "outputId": "7ff16e8b-49e8-4a37-8013-4f01f7bad9c6",
    "papermill": {
     "duration": 0.019354,
     "end_time": "2025-01-12T11:26:53.955075",
     "exception": false,
     "start_time": "2025-01-12T11:26:53.935721",
     "status": "completed"
    },
    "tags": []
   },
   "outputs": [
    {
     "data": {
      "text/plain": [
       "(8693, 22)"
      ]
     },
     "execution_count": 14,
     "metadata": {},
     "output_type": "execute_result"
    }
   ],
   "source": [
    "df.shape"
   ]
  },
  {
   "cell_type": "code",
   "execution_count": 15,
   "id": "4c8e4a6a",
   "metadata": {
    "execution": {
     "iopub.execute_input": "2025-01-12T11:26:53.978293Z",
     "iopub.status.busy": "2025-01-12T11:26:53.977957Z",
     "iopub.status.idle": "2025-01-12T11:26:53.990646Z",
     "shell.execute_reply": "2025-01-12T11:26:53.989329Z"
    },
    "executionInfo": {
     "elapsed": 215,
     "status": "ok",
     "timestamp": 1736677583546,
     "user": {
      "displayName": "Максим Равичев",
      "userId": "13749303498246737990"
     },
     "user_tz": -120
    },
    "id": "34OjfKbmD89j",
    "outputId": "a1f870b3-6eaa-45b5-ac8c-78ec39875b50",
    "papermill": {
     "duration": 0.026021,
     "end_time": "2025-01-12T11:26:53.992170",
     "exception": false,
     "start_time": "2025-01-12T11:26:53.966149",
     "status": "completed"
    },
    "tags": []
   },
   "outputs": [
    {
     "name": "stdout",
     "output_type": "stream",
     "text": [
      "<class 'pandas.core.frame.DataFrame'>\n",
      "Index: 8693 entries, 0001_01 to 9280_02\n",
      "Data columns (total 22 columns):\n",
      " #   Column                     Non-Null Count  Dtype  \n",
      "---  ------                     --------------  -----  \n",
      " 0   Age                        8693 non-null   float64\n",
      " 1   RoomService                8693 non-null   float64\n",
      " 2   FoodCourt                  8693 non-null   float64\n",
      " 3   ShoppingMall               8693 non-null   float64\n",
      " 4   Spa                        8693 non-null   float64\n",
      " 5   VRDeck                     8693 non-null   float64\n",
      " 6   Transported                8693 non-null   int64  \n",
      " 7   Group                      8693 non-null   int64  \n",
      " 8   HomePlanet_Earth           8693 non-null   int64  \n",
      " 9   HomePlanet_Europa          8693 non-null   int64  \n",
      " 10  HomePlanet_Mars            8693 non-null   int64  \n",
      " 11  Destination_55 Cancri e    8693 non-null   int64  \n",
      " 12  Destination_PSO J318.5-22  8693 non-null   int64  \n",
      " 13  Destination_TRAPPIST-1e    8693 non-null   int64  \n",
      " 14  Deck                       8693 non-null   int8   \n",
      " 15  Side_P                     8693 non-null   int64  \n",
      " 16  Side_S                     8693 non-null   int64  \n",
      " 17  CryoSleep_False            8693 non-null   int64  \n",
      " 18  CryoSleep_True             8693 non-null   int64  \n",
      " 19  VIP_False                  8693 non-null   int64  \n",
      " 20  VIP_True                   8693 non-null   int64  \n",
      " 21  TotalMoney                 8693 non-null   float64\n",
      "dtypes: float64(7), int64(14), int8(1)\n",
      "memory usage: 1.5+ MB\n"
     ]
    }
   ],
   "source": [
    "df.info()"
   ]
  },
  {
   "cell_type": "markdown",
   "id": "60f05133",
   "metadata": {
    "id": "97rSXQjt5MvW",
    "papermill": {
     "duration": 0.010819,
     "end_time": "2025-01-12T11:26:54.014593",
     "exception": false,
     "start_time": "2025-01-12T11:26:54.003774",
     "status": "completed"
    },
    "tags": []
   },
   "source": [
    "# Premodel prepare"
   ]
  },
  {
   "cell_type": "markdown",
   "id": "e1b7cdf7",
   "metadata": {
    "id": "aUFDpMHEK26R",
    "papermill": {
     "duration": 0.01078,
     "end_time": "2025-01-12T11:26:54.036550",
     "exception": false,
     "start_time": "2025-01-12T11:26:54.025770",
     "status": "completed"
    },
    "tags": []
   },
   "source": [
    "Spliting out DataFrame to further use in models, scaling all data (validation also)"
   ]
  },
  {
   "cell_type": "code",
   "execution_count": 16,
   "id": "57bb3093",
   "metadata": {
    "execution": {
     "iopub.execute_input": "2025-01-12T11:26:54.060034Z",
     "iopub.status.busy": "2025-01-12T11:26:54.059698Z",
     "iopub.status.idle": "2025-01-12T11:26:54.088198Z",
     "shell.execute_reply": "2025-01-12T11:26:54.087437Z"
    },
    "executionInfo": {
     "elapsed": 178,
     "status": "ok",
     "timestamp": 1736677585861,
     "user": {
      "displayName": "Максим Равичев",
      "userId": "13749303498246737990"
     },
     "user_tz": -120
    },
    "id": "KgXZQyN-GgDE",
    "papermill": {
     "duration": 0.04243,
     "end_time": "2025-01-12T11:26:54.090027",
     "exception": false,
     "start_time": "2025-01-12T11:26:54.047597",
     "status": "completed"
    },
    "tags": []
   },
   "outputs": [],
   "source": [
    "X, y = df.drop('Transported', axis=1), df['Transported']\n",
    "X_train, X_test, y_train, y_test = train_test_split(X, y, test_size=0.1, random_state=random_state)\n",
    "\n",
    "scaler = StandardScaler()\n",
    "X_train_scaled = scaler.fit_transform(X_train)\n",
    "X_test_scaled = scaler.transform(X_test)\n",
    "val_scaled = scaler.transform(valid_df)"
   ]
  },
  {
   "cell_type": "markdown",
   "id": "faccf399",
   "metadata": {
    "id": "Ef8CbIZD5mDt",
    "papermill": {
     "duration": 0.010824,
     "end_time": "2025-01-12T11:26:54.112415",
     "exception": false,
     "start_time": "2025-01-12T11:26:54.101591",
     "status": "completed"
    },
    "tags": []
   },
   "source": [
    "# Models"
   ]
  },
  {
   "cell_type": "markdown",
   "id": "66c02d77",
   "metadata": {
    "id": "3IS9eZO_T_d9",
    "papermill": {
     "duration": 0.010824,
     "end_time": "2025-01-12T11:26:54.134573",
     "exception": false,
     "start_time": "2025-01-12T11:26:54.123749",
     "status": "completed"
    },
    "tags": []
   },
   "source": [
    "## MLPClassifier"
   ]
  },
  {
   "cell_type": "code",
   "execution_count": 17,
   "id": "c8616277",
   "metadata": {
    "execution": {
     "iopub.execute_input": "2025-01-12T11:26:54.158218Z",
     "iopub.status.busy": "2025-01-12T11:26:54.157880Z",
     "iopub.status.idle": "2025-01-12T11:27:16.800749Z",
     "shell.execute_reply": "2025-01-12T11:27:16.798985Z"
    },
    "executionInfo": {
     "elapsed": 88710,
     "status": "ok",
     "timestamp": 1736674949676,
     "user": {
      "displayName": "Максим Равичев",
      "userId": "13749303498246737990"
     },
     "user_tz": -120
    },
    "id": "AkA4eF8wT2Jl",
    "outputId": "3055188d-8b2d-4c68-c021-a5ba2ad651ee",
    "papermill": {
     "duration": 22.659016,
     "end_time": "2025-01-12T11:27:16.804807",
     "exception": false,
     "start_time": "2025-01-12T11:26:54.145791",
     "status": "completed"
    },
    "tags": []
   },
   "outputs": [
    {
     "name": "stdout",
     "output_type": "stream",
     "text": [
      "Fitting 5 folds for each of 10 candidates, totalling 50 fits\n",
      "Best parameters: {'max_iter': 500, 'learning_rate_init': 0.001, 'hidden_layer_sizes': (50,), 'alpha': 0.1}\n",
      "Best score: 0.8010994174027438\n",
      "Accuracy for best MLP model: 0.7701149425287356\n"
     ]
    }
   ],
   "source": [
    "mlp_params = {\n",
    "    'activation': 'relu',\n",
    "    'solver': 'adam',\n",
    "    'early_stopping': True,\n",
    "}\n",
    "\n",
    "mlp = MLPClassifier(**mlp_params)\n",
    "\n",
    "mlp_params_tuned = {\n",
    "    'hidden_layer_sizes': [(10,),(20,),(50,)],\n",
    "    'alpha': [0.01, 0.1],\n",
    "    'learning_rate_init': [0.0001, 0.0005, 0.001],\n",
    "    'max_iter': [200, 500],\n",
    "}\n",
    "\n",
    "mlp_randomized = RandomizedSearchCV(mlp, mlp_params_tuned, n_iter=10, cv=5, verbose=1, random_state=random_state, n_jobs=-1)\n",
    "mlp_randomized.fit(X_train_scaled, y_train)\n",
    "\n",
    "print(f\"Best parameters: {mlp_randomized.best_params_}\")\n",
    "print(f\"Best score: {mlp_randomized.best_score_}\")\n",
    "\n",
    "# Validate the model using the best parameters\n",
    "best_mlp = mlp_randomized.best_estimator_\n",
    "y_pred = best_mlp.predict(X_test_scaled)\n",
    "print(f\"Accuracy for best MLP model: {accuracy_score(y_test, y_pred)}\")"
   ]
  },
  {
   "cell_type": "markdown",
   "id": "9ff91c15",
   "metadata": {
    "id": "5n9wuWqITh-r",
    "papermill": {
     "duration": 0.03351,
     "end_time": "2025-01-12T11:27:16.873335",
     "exception": false,
     "start_time": "2025-01-12T11:27:16.839825",
     "status": "completed"
    },
    "tags": []
   },
   "source": [
    "## XGBoost"
   ]
  },
  {
   "cell_type": "code",
   "execution_count": 18,
   "id": "30d8053a",
   "metadata": {
    "execution": {
     "iopub.execute_input": "2025-01-12T11:27:16.924824Z",
     "iopub.status.busy": "2025-01-12T11:27:16.924464Z",
     "iopub.status.idle": "2025-01-12T11:27:51.772522Z",
     "shell.execute_reply": "2025-01-12T11:27:51.771489Z"
    },
    "executionInfo": {
     "elapsed": 179383,
     "status": "ok",
     "timestamp": 1736675129056,
     "user": {
      "displayName": "Максим Равичев",
      "userId": "13749303498246737990"
     },
     "user_tz": -120
    },
    "id": "AD_e71HoHYCf",
    "outputId": "39d0c863-1933-4e0a-a212-d8e44531aa7e",
    "papermill": {
     "duration": 34.879852,
     "end_time": "2025-01-12T11:27:51.787402",
     "exception": false,
     "start_time": "2025-01-12T11:27:16.907550",
     "status": "completed"
    },
    "tags": []
   },
   "outputs": [
    {
     "name": "stdout",
     "output_type": "stream",
     "text": [
      "Fitting 10 folds for each of 10 candidates, totalling 100 fits\n",
      "Best hyperparameters:  {'subsample': 0.30000000000000004, 'n_estimators': 300, 'max_depth': 12, 'learning_rate': 0.026000000000000002, 'colsample_bytree': 0.30000000000000004}\n",
      "Best mean cross-validation score: 0.806\n",
      "Accuracy for best XGBoost model: 0.7839080459770115\n"
     ]
    }
   ],
   "source": [
    "xgb_params = {\n",
    "    'n_estimators': 500,\n",
    "    'learning_rate': 0.05,\n",
    "    'max_depth': 7,\n",
    "    'colsample_bytree': 1.0,\n",
    "    'n_jobs': -1,\n",
    "    'eval_metric': 'logloss',\n",
    "    'objective': 'binary:logistic',\n",
    "    'verbosity': 0,\n",
    "    'random_state': random_state,\n",
    "}\n",
    "\n",
    "xgb_model = XGBClassifier(**xgb_params)\n",
    "\n",
    "xgb_params_tuned = {\n",
    "    'n_estimators': np.arange(250, 350, 50),\n",
    "    'max_depth': np.arange(12, 14, 1),\n",
    "    'learning_rate': np.arange(0.01, 0.03,0.004),\n",
    "    'subsample': np.arange(0.2, 0.4, 0.1),\n",
    "    'colsample_bytree': np.arange(0.2, 0.4, 0.1),\n",
    "}\n",
    "\n",
    "xgb_randomized = RandomizedSearchCV(xgb_model, xgb_params_tuned, cv=10, n_jobs=-1, verbose=1)\n",
    "\n",
    "xgb_randomized.fit(X_train_scaled, y_train)\n",
    "\n",
    "print(\"Best hyperparameters: \", xgb_randomized.best_params_)\n",
    "print(\"Best mean cross-validation score: {:.3f}\".format(xgb_randomized.best_score_))\n",
    "\n",
    "# Validate the model using the best parameters\n",
    "best_xgb = xgb_randomized.best_estimator_\n",
    "y_pred = best_xgb.predict(X_test_scaled)\n",
    "print(f\"Accuracy for best XGBoost model: {accuracy_score(y_test, y_pred)}\")"
   ]
  },
  {
   "cell_type": "markdown",
   "id": "0fda0194",
   "metadata": {
    "id": "YGRarun_TlCw",
    "papermill": {
     "duration": 0.011428,
     "end_time": "2025-01-12T11:27:51.810551",
     "exception": false,
     "start_time": "2025-01-12T11:27:51.799123",
     "status": "completed"
    },
    "tags": []
   },
   "source": [
    "## CatBoost"
   ]
  },
  {
   "cell_type": "code",
   "execution_count": 19,
   "id": "2630fa7a",
   "metadata": {
    "execution": {
     "iopub.execute_input": "2025-01-12T11:27:51.835034Z",
     "iopub.status.busy": "2025-01-12T11:27:51.834656Z",
     "iopub.status.idle": "2025-01-12T11:30:17.752414Z",
     "shell.execute_reply": "2025-01-12T11:30:17.751197Z"
    },
    "executionInfo": {
     "elapsed": 262882,
     "status": "ok",
     "timestamp": 1736675404318,
     "user": {
      "displayName": "Максим Равичев",
      "userId": "13749303498246737990"
     },
     "user_tz": -120
    },
    "id": "dnRwmv1xL8gT",
    "outputId": "527e674c-6ca8-4097-fb33-45c4acad0b98",
    "papermill": {
     "duration": 145.943434,
     "end_time": "2025-01-12T11:30:17.765487",
     "exception": false,
     "start_time": "2025-01-12T11:27:51.822053",
     "status": "completed"
    },
    "tags": []
   },
   "outputs": [
    {
     "name": "stdout",
     "output_type": "stream",
     "text": [
      "Fitting 5 folds for each of 10 candidates, totalling 50 fits\n",
      "Best hyperparameters:  {'random_strength': 0.2, 'one_hot_max_size': 50, 'max_bin': 200, 'learning_rate': 0.017, 'l2_leaf_reg': 0.1, 'iterations': 400, 'depth': 11, 'bootstrap_type': 'Bernoulli'}\n",
      "Best mean cross-validation score: 0.806\n",
      "Accuracy for best CatBoost model: 0.7770114942528735\n"
     ]
    }
   ],
   "source": [
    "cat_params = {\n",
    "    'depth':  np.arange(11, 14,1),\n",
    "    'learning_rate': np.arange(0.001, 0.02,0.002),\n",
    "    'l2_leaf_reg': [0.1],\n",
    "    'random_strength': [0.2],\n",
    "    'max_bin': [200],\n",
    "    'bootstrap_type': ['Bayesian', 'Bernoulli'],\n",
    "    'one_hot_max_size': [50],\n",
    "    'iterations': np.arange(200, 500, 100),\n",
    "}\n",
    "\n",
    "cat_model = CatBoostClassifier(eval_metric='Logloss', verbose=0, random_state=random_state, grow_policy='Lossguide')\n",
    "\n",
    "cat_randomized = RandomizedSearchCV(cat_model, cat_params, cv=5, n_jobs=-1, verbose=1,random_state=random_state)\n",
    "\n",
    "cat_randomized.fit(X_train_scaled, y_train)\n",
    "\n",
    "print(\"Best hyperparameters: \", cat_randomized.best_params_)\n",
    "print(\"Best mean cross-validation score: {:.3f}\".format(cat_randomized.best_score_))\n",
    "\n",
    "# Validate the model using the best parameters\n",
    "best_cat = cat_randomized.best_estimator_\n",
    "y_pred = best_cat.predict(X_test_scaled)\n",
    "print(f\"Accuracy for best CatBoost model: {accuracy_score(y_test, y_pred)}\")"
   ]
  },
  {
   "cell_type": "markdown",
   "id": "aabd5b79",
   "metadata": {
    "id": "U4v7vCA7UJDL",
    "papermill": {
     "duration": 0.011371,
     "end_time": "2025-01-12T11:30:17.788747",
     "exception": false,
     "start_time": "2025-01-12T11:30:17.777376",
     "status": "completed"
    },
    "tags": []
   },
   "source": [
    "## GradientBoost"
   ]
  },
  {
   "cell_type": "code",
   "execution_count": 20,
   "id": "43aaa7c0",
   "metadata": {
    "execution": {
     "iopub.execute_input": "2025-01-12T11:30:17.813542Z",
     "iopub.status.busy": "2025-01-12T11:30:17.813125Z",
     "iopub.status.idle": "2025-01-12T11:32:58.426340Z",
     "shell.execute_reply": "2025-01-12T11:32:58.425236Z"
    },
    "executionInfo": {
     "elapsed": 1090948,
     "status": "ok",
     "timestamp": 1736676495263,
     "user": {
      "displayName": "Максим Равичев",
      "userId": "13749303498246737990"
     },
     "user_tz": -120
    },
    "id": "lV8naMhrUIqT",
    "outputId": "71fd731d-9081-4925-d4b9-3e409f72ebc2",
    "papermill": {
     "duration": 160.639099,
     "end_time": "2025-01-12T11:32:58.439845",
     "exception": false,
     "start_time": "2025-01-12T11:30:17.800746",
     "status": "completed"
    },
    "tags": []
   },
   "outputs": [
    {
     "name": "stdout",
     "output_type": "stream",
     "text": [
      "Fitting 5 folds for each of 10 candidates, totalling 50 fits\n",
      "Best hyperparameters:  {'n_estimators': 500, 'min_samples_split': 10, 'min_samples_leaf': 1, 'max_features': 'log2', 'max_depth': 9, 'learning_rate': 0.02915053062825179}\n",
      "Best mean cross-validation score: 0.802\n",
      "Accuracy for best GradientBoosting model: 0.7896551724137931\n"
     ]
    }
   ],
   "source": [
    "gb_params = {\n",
    "    'n_estimators': np.arange(500, 800, 100),\n",
    "    'learning_rate': np.logspace(-4, 0, num=100),\n",
    "    'max_depth': np.arange(7, 11),\n",
    "    'min_samples_split': np.arange(7, 12),\n",
    "    'min_samples_leaf': [1],\n",
    "    'max_features': ['sqrt', 'log2']\n",
    "}\n",
    "\n",
    "gb_model = GradientBoostingClassifier(random_state=random_state)\n",
    "\n",
    "gb_randomized = RandomizedSearchCV(gb_model, gb_params, cv=5, n_jobs=-1, verbose=1)\n",
    "gb_randomized.fit(X_train_scaled, y_train)\n",
    "\n",
    "print(\"Best hyperparameters: \", gb_randomized.best_params_)\n",
    "print(\"Best mean cross-validation score: {:.3f}\".format(gb_randomized.best_score_))\n",
    "\n",
    "# Validate the model using the best parameters\n",
    "best_gb = gb_randomized.best_estimator_\n",
    "y_pred = best_gb.predict(X_test_scaled)\n",
    "print(f\"Accuracy for best GradientBoosting model: {accuracy_score(y_test, y_pred)}\")"
   ]
  },
  {
   "cell_type": "markdown",
   "id": "315ac063",
   "metadata": {
    "id": "zMq1nJRlUUTM",
    "papermill": {
     "duration": 0.011523,
     "end_time": "2025-01-12T11:32:58.463263",
     "exception": false,
     "start_time": "2025-01-12T11:32:58.451740",
     "status": "completed"
    },
    "tags": []
   },
   "source": [
    "## DecisionTree"
   ]
  },
  {
   "cell_type": "code",
   "execution_count": 21,
   "id": "c1f5887a",
   "metadata": {
    "execution": {
     "iopub.execute_input": "2025-01-12T11:32:58.488109Z",
     "iopub.status.busy": "2025-01-12T11:32:58.487775Z",
     "iopub.status.idle": "2025-01-12T11:32:59.115211Z",
     "shell.execute_reply": "2025-01-12T11:32:59.113988Z"
    },
    "executionInfo": {
     "elapsed": 2153,
     "status": "ok",
     "timestamp": 1736676497411,
     "user": {
      "displayName": "Максим Равичев",
      "userId": "13749303498246737990"
     },
     "user_tz": -120
    },
    "id": "zEYtcqQtUUqR",
    "outputId": "eb189678-c723-4f3c-d904-443f3eaaf2a5",
    "papermill": {
     "duration": 0.641824,
     "end_time": "2025-01-12T11:32:59.116883",
     "exception": false,
     "start_time": "2025-01-12T11:32:58.475059",
     "status": "completed"
    },
    "tags": []
   },
   "outputs": [
    {
     "name": "stdout",
     "output_type": "stream",
     "text": [
      "Fitting 5 folds for each of 10 candidates, totalling 50 fits\n",
      "Best hyperparameters:  {'min_samples_split': 4, 'min_samples_leaf': 8, 'max_features': None, 'max_depth': 18}\n",
      "Best mean cross-validation score: 0.773\n",
      "Accuracy for best DecisionTree model: 0.764367816091954\n"
     ]
    }
   ],
   "source": [
    "dt_params = {\n",
    "    'max_depth': np.arange(15, 20),\n",
    "    'min_samples_split': np.arange(2, 10),\n",
    "    'min_samples_leaf': np.arange(5, 10),\n",
    "    'max_features': ['sqrt', 'log2', None]\n",
    "}\n",
    "\n",
    "dt_model = DecisionTreeClassifier(random_state=random_state)\n",
    "\n",
    "dt_randomized = RandomizedSearchCV(dt_model, dt_params, cv=5, n_jobs=-1, verbose=1)\n",
    "dt_randomized.fit(X_train_scaled, y_train)\n",
    "\n",
    "print(\"Best hyperparameters: \", dt_randomized.best_params_)\n",
    "print(\"Best mean cross-validation score: {:.3f}\".format(dt_randomized.best_score_))\n",
    "\n",
    "# Validate the model using the best parameters\n",
    "best_dt = dt_randomized.best_estimator_\n",
    "y_pred = best_dt.predict(X_test_scaled)\n",
    "print(f\"Accuracy for best DecisionTree model: {accuracy_score(y_test, y_pred)}\")"
   ]
  },
  {
   "cell_type": "markdown",
   "id": "0e1d5963",
   "metadata": {
    "id": "QluljPVRTnDH",
    "papermill": {
     "duration": 0.011594,
     "end_time": "2025-01-12T11:32:59.140448",
     "exception": false,
     "start_time": "2025-01-12T11:32:59.128854",
     "status": "completed"
    },
    "tags": []
   },
   "source": [
    "## RandomForest"
   ]
  },
  {
   "cell_type": "code",
   "execution_count": 22,
   "id": "d8be7a58",
   "metadata": {
    "execution": {
     "iopub.execute_input": "2025-01-12T11:32:59.165394Z",
     "iopub.status.busy": "2025-01-12T11:32:59.165021Z",
     "iopub.status.idle": "2025-01-12T11:34:22.723687Z",
     "shell.execute_reply": "2025-01-12T11:34:22.722557Z"
    },
    "executionInfo": {
     "elapsed": 340240,
     "status": "ok",
     "timestamp": 1736676837648,
     "user": {
      "displayName": "Максим Равичев",
      "userId": "13749303498246737990"
     },
     "user_tz": -120
    },
    "id": "3lT4TVueO-nW",
    "outputId": "157bc7fb-0772-4d85-9aab-cfa2873912ec",
    "papermill": {
     "duration": 83.583871,
     "end_time": "2025-01-12T11:34:22.736148",
     "exception": false,
     "start_time": "2025-01-12T11:32:59.152277",
     "status": "completed"
    },
    "tags": []
   },
   "outputs": [
    {
     "name": "stdout",
     "output_type": "stream",
     "text": [
      "Fitting 5 folds for each of 10 candidates, totalling 50 fits\n",
      "Best hyperparameters:  {'n_estimators': 600, 'min_samples_split': 9, 'min_samples_leaf': 5, 'max_features': 'sqrt', 'max_depth': 17}\n",
      "Best mean cross-validation score: 0.803\n",
      "Accuracy for best RandomForest model: 0.7758620689655172\n"
     ]
    }
   ],
   "source": [
    "rf_params = {\n",
    "    'n_estimators': np.arange(500, 800, 100),\n",
    "    'max_depth': np.arange(15, 20),\n",
    "    'min_samples_split': np.arange(7, 10),\n",
    "    'min_samples_leaf': np.arange(5, 8),\n",
    "    'max_features': ['sqrt', 'log2']\n",
    "}\n",
    "\n",
    "rf_model = RandomForestClassifier(random_state=random_state)\n",
    "\n",
    "rf_randomized = RandomizedSearchCV(rf_model, rf_params, cv=5, n_jobs=-1, verbose=1)\n",
    "rf_randomized.fit(X_train_scaled, y_train)\n",
    "\n",
    "print(\"Best hyperparameters: \", rf_randomized.best_params_)\n",
    "print(\"Best mean cross-validation score: {:.3f}\".format(rf_randomized.best_score_))\n",
    "\n",
    "# Validate the model using the best parameters\n",
    "best_rf = rf_randomized.best_estimator_\n",
    "y_pred = best_rf.predict(X_test_scaled)\n",
    "print(f\"Accuracy for best RandomForest model: {accuracy_score(y_test, y_pred)}\")"
   ]
  },
  {
   "cell_type": "markdown",
   "id": "23dce6d3",
   "metadata": {
    "id": "1x7Gt5Wx5fNW",
    "papermill": {
     "duration": 0.011744,
     "end_time": "2025-01-12T11:34:22.760067",
     "exception": false,
     "start_time": "2025-01-12T11:34:22.748323",
     "status": "completed"
    },
    "tags": []
   },
   "source": [
    "# Voting"
   ]
  },
  {
   "cell_type": "code",
   "execution_count": 23,
   "id": "3c683b3a",
   "metadata": {
    "execution": {
     "iopub.execute_input": "2025-01-12T11:34:22.785644Z",
     "iopub.status.busy": "2025-01-12T11:34:22.785205Z",
     "iopub.status.idle": "2025-01-12T11:34:40.819238Z",
     "shell.execute_reply": "2025-01-12T11:34:40.818146Z"
    },
    "executionInfo": {
     "elapsed": 33365,
     "status": "ok",
     "timestamp": 1736676871011,
     "user": {
      "displayName": "Максим Равичев",
      "userId": "13749303498246737990"
     },
     "user_tz": -120
    },
    "id": "HcAiVJllMJ5y",
    "outputId": "748ff0d6-405c-478d-d25a-93dd88d5debb",
    "papermill": {
     "duration": 18.048742,
     "end_time": "2025-01-12T11:34:40.820896",
     "exception": false,
     "start_time": "2025-01-12T11:34:22.772154",
     "status": "completed"
    },
    "tags": []
   },
   "outputs": [
    {
     "name": "stdout",
     "output_type": "stream",
     "text": [
      "Accuracy for best ensemble model with hard voting: 0.7850574712643679\n"
     ]
    }
   ],
   "source": [
    "voting_clf = VotingClassifier(estimators=[\n",
    "    ('mlp', best_mlp),\n",
    "    ('xgb', best_xgb),\n",
    "    ('cat', best_cat),\n",
    "    ('gb', best_gb),\n",
    "    ('dt', best_dt),\n",
    "    ('rf', best_rf)\n",
    "], voting='soft')\n",
    "\n",
    "voting_clf.fit(X_train_scaled, y_train)\n",
    "y_pred = voting_clf.predict(X_test_scaled)\n",
    "print(f\"Accuracy for best ensemble model with hard voting: {accuracy_score(y_test, y_pred)}\")"
   ]
  },
  {
   "cell_type": "markdown",
   "id": "9db3d190",
   "metadata": {
    "id": "3kNyHiH45i39",
    "papermill": {
     "duration": 0.011573,
     "end_time": "2025-01-12T11:34:40.844703",
     "exception": false,
     "start_time": "2025-01-12T11:34:40.833130",
     "status": "completed"
    },
    "tags": []
   },
   "source": [
    "# Output"
   ]
  },
  {
   "cell_type": "code",
   "execution_count": 24,
   "id": "ab623c61",
   "metadata": {
    "execution": {
     "iopub.execute_input": "2025-01-12T11:34:40.869610Z",
     "iopub.status.busy": "2025-01-12T11:34:40.869163Z",
     "iopub.status.idle": "2025-01-12T11:34:41.513899Z",
     "shell.execute_reply": "2025-01-12T11:34:41.513033Z"
    },
    "executionInfo": {
     "elapsed": 1153,
     "status": "ok",
     "timestamp": 1736676872161,
     "user": {
      "displayName": "Максим Равичев",
      "userId": "13749303498246737990"
     },
     "user_tz": -120
    },
    "id": "lkJlE0ohPVs6",
    "papermill": {
     "duration": 0.659159,
     "end_time": "2025-01-12T11:34:41.515736",
     "exception": false,
     "start_time": "2025-01-12T11:34:40.856577",
     "status": "completed"
    },
    "tags": []
   },
   "outputs": [],
   "source": [
    "valid_df['Transported'] = voting_clf.predict(val_scaled)"
   ]
  },
  {
   "cell_type": "code",
   "execution_count": 25,
   "id": "62bf66bc",
   "metadata": {
    "execution": {
     "iopub.execute_input": "2025-01-12T11:34:41.598533Z",
     "iopub.status.busy": "2025-01-12T11:34:41.598115Z",
     "iopub.status.idle": "2025-01-12T11:34:41.605751Z",
     "shell.execute_reply": "2025-01-12T11:34:41.604843Z"
    },
    "executionInfo": {
     "elapsed": 9,
     "status": "ok",
     "timestamp": 1736676872162,
     "user": {
      "displayName": "Максим Равичев",
      "userId": "13749303498246737990"
     },
     "user_tz": -120
    },
    "id": "j1yMGuvaPdyH",
    "papermill": {
     "duration": 0.079397,
     "end_time": "2025-01-12T11:34:41.607497",
     "exception": false,
     "start_time": "2025-01-12T11:34:41.528100",
     "status": "completed"
    },
    "tags": []
   },
   "outputs": [],
   "source": [
    "valid_df = valid_df.reset_index()"
   ]
  },
  {
   "cell_type": "code",
   "execution_count": 26,
   "id": "8ab9a440",
   "metadata": {
    "execution": {
     "iopub.execute_input": "2025-01-12T11:34:41.633292Z",
     "iopub.status.busy": "2025-01-12T11:34:41.632928Z",
     "iopub.status.idle": "2025-01-12T11:34:41.638432Z",
     "shell.execute_reply": "2025-01-12T11:34:41.637583Z"
    },
    "executionInfo": {
     "elapsed": 8,
     "status": "ok",
     "timestamp": 1736676872162,
     "user": {
      "displayName": "Максим Равичев",
      "userId": "13749303498246737990"
     },
     "user_tz": -120
    },
    "id": "ey11IUf8AGkg",
    "papermill": {
     "duration": 0.020351,
     "end_time": "2025-01-12T11:34:41.640004",
     "exception": false,
     "start_time": "2025-01-12T11:34:41.619653",
     "status": "completed"
    },
    "tags": []
   },
   "outputs": [],
   "source": [
    "output_valid_df=valid_df[['PassengerId','Transported']]"
   ]
  },
  {
   "cell_type": "code",
   "execution_count": 27,
   "id": "4f3544b1",
   "metadata": {
    "execution": {
     "iopub.execute_input": "2025-01-12T11:34:41.665681Z",
     "iopub.status.busy": "2025-01-12T11:34:41.665207Z",
     "iopub.status.idle": "2025-01-12T11:34:41.672412Z",
     "shell.execute_reply": "2025-01-12T11:34:41.671377Z"
    },
    "executionInfo": {
     "elapsed": 8,
     "status": "ok",
     "timestamp": 1736676872162,
     "user": {
      "displayName": "Максим Равичев",
      "userId": "13749303498246737990"
     },
     "user_tz": -120
    },
    "id": "_8zhFOqoMgZC",
    "papermill": {
     "duration": 0.021766,
     "end_time": "2025-01-12T11:34:41.673997",
     "exception": false,
     "start_time": "2025-01-12T11:34:41.652231",
     "status": "completed"
    },
    "tags": []
   },
   "outputs": [],
   "source": [
    "output_valid_df['Transported'] = output_valid_df['Transported'].replace({0: 'False', 1: 'True'})"
   ]
  },
  {
   "cell_type": "code",
   "execution_count": 28,
   "id": "0fc050e8",
   "metadata": {
    "execution": {
     "iopub.execute_input": "2025-01-12T11:34:41.699275Z",
     "iopub.status.busy": "2025-01-12T11:34:41.698933Z",
     "iopub.status.idle": "2025-01-12T11:34:41.710144Z",
     "shell.execute_reply": "2025-01-12T11:34:41.709243Z"
    },
    "executionInfo": {
     "elapsed": 189,
     "status": "ok",
     "timestamp": 1736677337768,
     "user": {
      "displayName": "Максим Равичев",
      "userId": "13749303498246737990"
     },
     "user_tz": -120
    },
    "id": "Wb7YvaxpACgo",
    "papermill": {
     "duration": 0.025884,
     "end_time": "2025-01-12T11:34:41.711987",
     "exception": false,
     "start_time": "2025-01-12T11:34:41.686103",
     "status": "completed"
    },
    "tags": []
   },
   "outputs": [],
   "source": [
    "output_valid_df.to_csv('Prod_1.csv', index=False)"
   ]
  }
 ],
 "metadata": {
  "colab": {
   "authorship_tag": "ABX9TyPHv3pi04OzoZl76qgIlDf2",
   "provenance": [],
   "toc_visible": true
  },
  "kaggle": {
   "accelerator": "none",
   "dataSources": [
    {
     "databundleVersionId": 3220602,
     "sourceId": 34377,
     "sourceType": "competition"
    }
   ],
   "dockerImageVersionId": 30822,
   "isGpuEnabled": false,
   "isInternetEnabled": true,
   "language": "python",
   "sourceType": "notebook"
  },
  "kernelspec": {
   "display_name": "Python 3",
   "language": "python",
   "name": "python3"
  },
  "language_info": {
   "codemirror_mode": {
    "name": "ipython",
    "version": 3
   },
   "file_extension": ".py",
   "mimetype": "text/x-python",
   "name": "python",
   "nbconvert_exporter": "python",
   "pygments_lexer": "ipython3",
   "version": "3.10.12"
  },
  "papermill": {
   "default_parameters": {},
   "duration": 474.758887,
   "end_time": "2025-01-12T11:34:42.545121",
   "environment_variables": {},
   "exception": null,
   "input_path": "__notebook__.ipynb",
   "output_path": "__notebook__.ipynb",
   "parameters": {},
   "start_time": "2025-01-12T11:26:47.786234",
   "version": "2.6.0"
  }
 },
 "nbformat": 4,
 "nbformat_minor": 5
}
